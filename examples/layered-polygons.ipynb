{
 "cells": [
  {
   "cell_type": "code",
   "execution_count": null,
   "metadata": {},
   "outputs": [],
   "source": [
    "import paintnine as pa9\n",
    "square = pa9.get_square()\n",
    "_ = pa9.grow_multipolygon(square, 15, 12)"
   ]
  }
 ],
 "metadata": {
  "kernelspec": {
   "display_name": "Python 3.9.11 64-bit ('pydemo')",
   "language": "python",
   "name": "python3"
  },
  "language_info": {
   "name": "python",
   "version": "3.9.11"
  },
  "orig_nbformat": 4,
  "vscode": {
   "interpreter": {
    "hash": "974018313955b4988b16ea215671657307c8736770f13695d4ded4c5899ccb5a"
   }
  }
 },
 "nbformat": 4,
 "nbformat_minor": 2
}
